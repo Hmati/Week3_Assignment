{
  "nbformat": 4,
  "nbformat_minor": 0,
  "metadata": {
    "colab": {
      "name": "week3.ipynb",
      "provenance": []
    },
    "kernelspec": {
      "name": "python3",
      "display_name": "Python 3"
    }
  },
  "cells": [
    {
      "cell_type": "code",
      "metadata": {
        "id": "KuS7QZxIVCJ5"
      },
      "source": [
        "#Import libraries \n",
        "import pandas as pd\n",
        "import numpy as np"
      ],
      "execution_count": 41,
      "outputs": []
    },
    {
      "cell_type": "code",
      "metadata": {
        "id": "xSQkvdzLc-Ou"
      },
      "source": [
        "# load an Excel file as shown below\n",
        "\n",
        "url = '/content/cells_geo_description.xlsx'\n",
        "\n",
        "# Then load the first sheet of the Excel file into a data frame and , view the first ten rows\n",
        "df = pd.read_excel(url, sheet_name=0, header=1)\n",
        "\n",
        "\n",
        "df.head(10)"
      ],
      "execution_count": null,
      "outputs": []
    },
    {
      "cell_type": "code",
      "metadata": {
        "id": "u2zLasA9gn--"
      },
      "source": [
        "# load an Excel file as shown below\n",
        "\n",
        "url = '/content/CDR_description.xlsx'\n",
        "\n",
        "df = pd.read_excel(url, sheet_name=0, header=1)\n",
        "\n",
        "# view the first ten rows\n",
        "df.head(10)"
      ],
      "execution_count": null,
      "outputs": []
    },
    {
      "cell_type": "code",
      "metadata": {
        "id": "c1ppLUR4_Q4b"
      },
      "source": [
        ""
      ],
      "execution_count": null,
      "outputs": []
    },
    {
      "cell_type": "code",
      "metadata": {
        "id": "Ilr472WlgvZi"
      },
      "source": [
        "import pandas as pd \n",
        "data = pd.read_csv(\"/content/cells_geo.csv\") \n",
        "# Preview the first 5 lines of the loaded data \n",
        "data.head(5)"
      ],
      "execution_count": null,
      "outputs": []
    },
    {
      "cell_type": "code",
      "metadata": {
        "id": "vbFeePtMeIRM"
      },
      "source": [
        "import pandas as pd \n",
        "data = pd.read_csv(\"/content/Telcom_dataset.csv\") \n",
        "# Preview the first 5 lines of the loaded data \n",
        "data.head(5)\n"
      ],
      "execution_count": null,
      "outputs": []
    },
    {
      "cell_type": "code",
      "metadata": {
        "id": "7yWEZCGuepvN"
      },
      "source": [
        "# Read data from file 'filename.csv' ) \n",
        "data = pd.read_csv(\"/content/Telcom_dataset2.csv\") \n",
        "# Preview the first 5 lines of the loaded data \n",
        "data.head(5)"
      ],
      "execution_count": null,
      "outputs": []
    },
    {
      "cell_type": "code",
      "metadata": {
        "id": "OTnWMY-qezdD"
      },
      "source": [
        ""
      ],
      "execution_count": null,
      "outputs": []
    },
    {
      "cell_type": "code",
      "metadata": {
        "id": "VlW9B-Dhy2T2"
      },
      "source": [
        "import pandas as pd \n",
        "\n",
        "# Merge the 3 datasets from telecom \n",
        "\n",
        "data = pd.read_csv(\"/content/Telcom_dataset.csv\") \n",
        "# Preview the first 5 lines of the loaded data \n",
        "data\n",
        "\n",
        "\n",
        "# Read data from file 'filename.csv' ) \n",
        "data1 = pd.read_csv(\"/content/Telcom_dataset2.csv\") \n",
        "# Preview the first 5 lines of the loaded data \n",
        "data1\n",
        "\n",
        "# Read data from file 'filename.csv' \n",
        "data2 = pd.read_csv(\"/content/Telcom_dataset3.csv\") \n",
        "# Preview the first 5 lines of the loaded data \n",
        "data2\n",
        "\n",
        "df = pd.concat([data, data1,data2]) #merge\n",
        "df=df.reset_index(drop=True)\n",
        "df.head(5)"
      ],
      "execution_count": null,
      "outputs": []
    },
    {
      "cell_type": "code",
      "metadata": {
        "colab": {
          "base_uri": "https://localhost:8080/",
          "height": 224
        },
        "id": "DWu4DjvjBGlL",
        "outputId": "c248fd60-faba-46a3-84e4-df8ee87a9d46"
      },
      "source": [
        "#Concatinate the 3 combined sets with the call geo dataset \n",
        "\n",
        "df1 = pd.concat([df0, df])# Merge the 4 datasets\n",
        "df1.head(3)\n",
        "\n"
      ],
      "execution_count": 143,
      "outputs": [
        {
          "output_type": "execute_result",
          "data": {
            "text/html": [
              "<div>\n",
              "<style scoped>\n",
              "    .dataframe tbody tr th:only-of-type {\n",
              "        vertical-align: middle;\n",
              "    }\n",
              "\n",
              "    .dataframe tbody tr th {\n",
              "        vertical-align: top;\n",
              "    }\n",
              "\n",
              "    .dataframe thead th {\n",
              "        text-align: right;\n",
              "    }\n",
              "</style>\n",
              "<table border=\"1\" class=\"dataframe\">\n",
              "  <thead>\n",
              "    <tr style=\"text-align: right;\">\n",
              "      <th></th>\n",
              "      <th>Unnamed: 0</th>\n",
              "      <th>VILLES</th>\n",
              "      <th>STATUS</th>\n",
              "      <th>LOCALISATION</th>\n",
              "      <th>DECOUPZONE</th>\n",
              "      <th>ZONENAME</th>\n",
              "      <th>LONGITUDE</th>\n",
              "      <th>LATITUDE</th>\n",
              "      <th>REGION</th>\n",
              "      <th>AREA</th>\n",
              "      <th>CELL_ID</th>\n",
              "      <th>SITE_CODE</th>\n",
              "      <th>PRODUTC</th>\n",
              "      <th>VALUE</th>\n",
              "      <th>DATETIME</th>\n",
              "      <th>CELL_ON_SITE</th>\n",
              "      <th>DW_A_NUMBER_INT</th>\n",
              "      <th>DW_B_NUMBER_INT</th>\n",
              "      <th>COUNTRY_A</th>\n",
              "      <th>COUNTRY_B</th>\n",
              "      <th>SITE_ID</th>\n",
              "      <th>PRODUCT</th>\n",
              "      <th>DATE_TIME</th>\n",
              "      <th>DW_A_NUMBER</th>\n",
              "      <th>DW_B_NUMBER</th>\n",
              "    </tr>\n",
              "  </thead>\n",
              "  <tbody>\n",
              "    <tr>\n",
              "      <th>0</th>\n",
              "      <td>0.0</td>\n",
              "      <td>ADJAME</td>\n",
              "      <td>In Service</td>\n",
              "      <td>ABIDJAN</td>\n",
              "      <td>\"Abidjan_EST</td>\n",
              "      <td>AGBANNEW</td>\n",
              "      <td>-4.000667</td>\n",
              "      <td>5.368194</td>\n",
              "      <td>LAGUNE</td>\n",
              "      <td>NaN</td>\n",
              "      <td>fbb2e75af3</td>\n",
              "      <td>0bb492ef17</td>\n",
              "      <td>NaN</td>\n",
              "      <td>NaN</td>\n",
              "      <td>NaN</td>\n",
              "      <td>NaN</td>\n",
              "      <td>NaN</td>\n",
              "      <td>NaN</td>\n",
              "      <td>NaN</td>\n",
              "      <td>NaN</td>\n",
              "      <td>NaN</td>\n",
              "      <td>NaN</td>\n",
              "      <td>NaN</td>\n",
              "      <td>NaN</td>\n",
              "      <td>NaN</td>\n",
              "    </tr>\n",
              "    <tr>\n",
              "      <th>1</th>\n",
              "      <td>1.0</td>\n",
              "      <td>ADJAME</td>\n",
              "      <td>In Service</td>\n",
              "      <td>ABIDJAN</td>\n",
              "      <td>\"Abidjan_EST</td>\n",
              "      <td>AGBANNEW</td>\n",
              "      <td>-4.000667</td>\n",
              "      <td>5.368194</td>\n",
              "      <td>LAGUNE</td>\n",
              "      <td>NaN</td>\n",
              "      <td>1502501d78</td>\n",
              "      <td>0bb492ef17</td>\n",
              "      <td>NaN</td>\n",
              "      <td>NaN</td>\n",
              "      <td>NaN</td>\n",
              "      <td>NaN</td>\n",
              "      <td>NaN</td>\n",
              "      <td>NaN</td>\n",
              "      <td>NaN</td>\n",
              "      <td>NaN</td>\n",
              "      <td>NaN</td>\n",
              "      <td>NaN</td>\n",
              "      <td>NaN</td>\n",
              "      <td>NaN</td>\n",
              "      <td>NaN</td>\n",
              "    </tr>\n",
              "    <tr>\n",
              "      <th>2</th>\n",
              "      <td>2.0</td>\n",
              "      <td>ADJAME</td>\n",
              "      <td>In Service</td>\n",
              "      <td>ABIDJAN</td>\n",
              "      <td>\"Abidjan_EST</td>\n",
              "      <td>AGBANNEW</td>\n",
              "      <td>-4.000667</td>\n",
              "      <td>5.368194</td>\n",
              "      <td>LAGUNE</td>\n",
              "      <td>NaN</td>\n",
              "      <td>0c2e182a0c</td>\n",
              "      <td>0bb492ef17</td>\n",
              "      <td>NaN</td>\n",
              "      <td>NaN</td>\n",
              "      <td>NaN</td>\n",
              "      <td>NaN</td>\n",
              "      <td>NaN</td>\n",
              "      <td>NaN</td>\n",
              "      <td>NaN</td>\n",
              "      <td>NaN</td>\n",
              "      <td>NaN</td>\n",
              "      <td>NaN</td>\n",
              "      <td>NaN</td>\n",
              "      <td>NaN</td>\n",
              "      <td>NaN</td>\n",
              "    </tr>\n",
              "  </tbody>\n",
              "</table>\n",
              "</div>"
            ],
            "text/plain": [
              "   Unnamed: 0  VILLES      STATUS  ... DATE_TIME DW_A_NUMBER DW_B_NUMBER\n",
              "0         0.0  ADJAME  In Service  ...       NaN         NaN         NaN\n",
              "1         1.0  ADJAME  In Service  ...       NaN         NaN         NaN\n",
              "2         2.0  ADJAME  In Service  ...       NaN         NaN         NaN\n",
              "\n",
              "[3 rows x 25 columns]"
            ]
          },
          "metadata": {
            "tags": []
          },
          "execution_count": 143
        }
      ]
    },
    {
      "cell_type": "code",
      "metadata": {
        "id": "w-pMnEJJQWRk"
      },
      "source": [
        "#Which ones were the most used city for the three days?\n",
        "\n",
        "f = lambda x: np.nan if x.isnull().all() else x.value_counts().index[0]\n",
        "df2 = df1.groupby('VILLES')['DECOUPZONE'].apply(lambda x: x.value_counts().index[0]).reset_index()\n",
        "df2.head(10)\n"
      ],
      "execution_count": null,
      "outputs": []
    },
    {
      "cell_type": "code",
      "metadata": {
        "id": "GYsQWZsMTR0k"
      },
      "source": [
        "\n"
      ],
      "execution_count": null,
      "outputs": []
    },
    {
      "cell_type": "code",
      "metadata": {
        "colab": {
          "base_uri": "https://localhost:8080/"
        },
        "id": "F7HqfyhxuxS8",
        "outputId": "acc97179-ee97-41f5-9398-4d756e63d107"
      },
      "source": [
        "#Most used city for the three days?\n",
        "\n",
        "df2['VILLES'].value_counts().idxmax()\n",
        "n=5\n",
        "df2['VILLES'].value_counts()[:n].index.tolist()"
      ],
      "execution_count": 124,
      "outputs": [
        {
          "output_type": "execute_result",
          "data": {
            "text/plain": [
              "['NGUINOU', 'TOUIH', 'TOUBA', 'BLANFLA', 'OURAGAHIO']"
            ]
          },
          "metadata": {
            "tags": []
          },
          "execution_count": 124
        }
      ]
    },
    {
      "cell_type": "code",
      "metadata": {
        "colab": {
          "base_uri": "https://localhost:8080/"
        },
        "id": "GTokuy7KyX1H",
        "outputId": "52a4f8be-e809-4a23-f052-06bdd068c3b2"
      },
      "source": [
        "#Most used product from the 3 given data sets combined \n",
        "df['PRODUCT'].value_counts().idxmax()\n",
        "n=3\n",
        "df['PRODUCT'].value_counts()[:n].index.tolist()"
      ],
      "execution_count": 134,
      "outputs": [
        {
          "output_type": "execute_result",
          "data": {
            "text/plain": [
              "['sms', 'Voice', 'data']"
            ]
          },
          "metadata": {
            "tags": []
          },
          "execution_count": 134
        }
      ]
    },
    {
      "cell_type": "code",
      "metadata": {
        "id": "7Uk48yay0LOC"
      },
      "source": [
        ""
      ],
      "execution_count": null,
      "outputs": []
    },
    {
      "cell_type": "code",
      "metadata": {
        "id": "8vAWY0oe4hmR"
      },
      "source": [
        ""
      ],
      "execution_count": null,
      "outputs": []
    }
  ]
}